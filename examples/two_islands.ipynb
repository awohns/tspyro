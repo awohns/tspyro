{
 "cells": [
  {
   "cell_type": "markdown",
   "metadata": {},
   "source": [
    "## An example geography with two islands"
   ]
  },
  {
   "cell_type": "markdown",
   "metadata": {},
   "source": [
    "Let's evaluate the accuracy of the waypoints model using two island simulation and hex-grid waypoints.\n",
    "\n",
    "We'll use the real times of ancestral nodes in the graph so that we only have to infer the location of ancestors."
   ]
  },
  {
   "cell_type": "code",
   "execution_count": null,
   "metadata": {},
   "outputs": [],
   "source": [
    "%load_ext autoreload\n",
    "%autoreload 2"
   ]
  },
  {
   "cell_type": "code",
   "execution_count": null,
   "metadata": {},
   "outputs": [],
   "source": [
    "import matplotlib.pyplot as plt\n",
    "\n",
    "import sys\n",
    "sys.path.insert(0, \"..\")\n",
    "\n",
    "import tsdate\n",
    "from tspyro.diffusion import make_hex_grid\n",
    "import tspyro\n",
    "\n",
    "import tskit\n",
    "import pyslim\n",
    "\n",
    "import numpy as np\n",
    "from sklearn.metrics import mean_squared_log_error, mean_squared_error\n",
    "\n",
    "import pyro\n",
    "import torch"
   ]
  },
  {
   "cell_type": "markdown",
   "metadata": {},
   "source": [
    "# Draw islands\n",
    "Create the island model, output greyscale for SLiMGui to read in."
   ]
  },
  {
   "cell_type": "code",
   "execution_count": null,
   "metadata": {},
   "outputs": [],
   "source": [
    "# Global Variables for Islands Geography\n",
    "bounds = dict(west=0, east=4.0, south=0, north=2.24)\n",
    "island_center = [(1.33, 1.2), (2.66, 1.2)]\n",
    "island_radius = [0.33, 0.33]"
   ]
  },
  {
   "cell_type": "code",
   "execution_count": null,
   "metadata": {},
   "outputs": [],
   "source": [
    "circle1 = plt.Circle(island_center[0], island_radius[0] * 2, color='black')\n",
    "circle2 = plt.Circle(island_center[1], island_radius[1] * 2, color='black')\n",
    "\n",
    "fig, ax = plt.subplots() # note we must use plt.subplots, not plt.subplot\n",
    "ax.set_axis_off()\n",
    "# (or if you have an existing figure)\n",
    "# fig = plt.gcf()\n",
    "# ax = fig.gca()\n",
    "plt.xlim(0, 4)\n",
    "plt.ylim(0, 2.4)\n",
    "\n",
    "ax.add_patch(circle1)\n",
    "ax.add_patch(circle2)\n",
    "# plt.axis(\"off\")\n",
    "\n",
    "fig.savefig(\"two_islands.png\", bbox_inches='tight', pad_inches=0)\n",
    "from PIL import Image\n",
    "Image.open('two_islands.png').convert('L').save('two_islands.png')"
   ]
  },
  {
   "cell_type": "code",
   "execution_count": null,
   "metadata": {},
   "outputs": [],
   "source": [
    "ts = pyslim.load(\"examples/two_islands.trees\").simplify()\n",
    "recap_ts = ts.recapitate(recombination_rate=1e-8, Ne=50).simplify()"
   ]
  },
  {
   "cell_type": "code",
   "execution_count": null,
   "metadata": {},
   "outputs": [],
   "source": [
    "# Get the real locations of nodes\n",
    "\n",
    "lat_long = []\n",
    "for node in recap_ts.nodes():\n",
    "    if node.individual != -1:\n",
    "        ind = recap_ts.individual(node.individual)\n",
    "    \n",
    "        lat_long.append([ind.location[0], ind.location[1]])\n",
    "    else:\n",
    "        print(node)\n",
    "lat_long = np.array(lat_long)"
   ]
  },
  {
   "cell_type": "code",
   "execution_count": null,
   "metadata": {},
   "outputs": [],
   "source": [
    "# Plot the real locations of nodes\n",
    "plt.scatter(lat_long[:,0], lat_long[:,1], s=0.1)\n",
    "plt.xlim(0, 4)\n",
    "plt.ylim(0, 2)"
   ]
  },
  {
   "cell_type": "code",
   "execution_count": null,
   "metadata": {},
   "outputs": [],
   "source": [
    "# Match waypoints to model from above\n",
    "grid_radius = 0.1\n",
    "\n",
    "def on_land(x, y):\n",
    "    result = torch.tensor(False)\n",
    "    for (x0, y0), r in zip(island_center, island_radius):\n",
    "        result = result | (r > (x - x0) ** 2 + (y - y0) ** 2)\n",
    "    return result"
   ]
  },
  {
   "cell_type": "code",
   "execution_count": null,
   "metadata": {},
   "outputs": [],
   "source": [
    "grid = make_hex_grid(**bounds, radius=grid_radius, predicate=on_land)\n",
    "waypoints = grid[\"waypoints\"]\n",
    "transition = grid[\"transition\"]"
   ]
  },
  {
   "cell_type": "code",
   "execution_count": null,
   "metadata": {},
   "outputs": [],
   "source": [
    "plt.title(\"Probability of transitioning from a given point\")\n",
    "plt.scatter(waypoints[:, 0], waypoints[:, 1], c=transition[0])\n",
    "plt.xlim(bounds[\"west\"], bounds[\"east\"])\n",
    "plt.ylim(bounds[\"south\"], bounds[\"north\"])\n",
    "# Add islands in background\n",
    "circle1 = plt.Circle(island_center[0], island_radius[0] * 2, color='black', alpha=0.1, zorder=-1)\n",
    "circle2 = plt.Circle(island_center[1], island_radius[1] * 2, color='black', alpha=0.1, zorder=-1)\n",
    "plt.gca().add_patch(circle1)\n",
    "plt.gca().add_patch(circle2)\n",
    "\n",
    "# plt.axis(\"equal\")\n",
    "plt.colorbar()\n",
    "plt.tight_layout()"
   ]
  },
  {
   "cell_type": "markdown",
   "metadata": {},
   "source": [
    "And note the spread of lineages is roughly covered by the waypoints"
   ]
  },
  {
   "cell_type": "code",
   "execution_count": null,
   "metadata": {},
   "outputs": [],
   "source": [
    "plt.scatter(waypoints[:, 0], waypoints[:, 1])\n",
    "plt.xlim(bounds[\"west\"], bounds[\"east\"])\n",
    "plt.ylim(bounds[\"south\"], bounds[\"north\"])\n",
    "circle1 = plt.Circle(island_center[0], island_radius[0] * 2, color='black', alpha=0.1, zorder=-1)\n",
    "circle2 = plt.Circle(island_center[1], island_radius[1] * 2, color='black', alpha=0.1, zorder=-1)\n",
    "plt.gca().add_patch(circle1)\n",
    "plt.gca().add_patch(circle2)\n",
    "plt.tight_layout()\n",
    "plt.scatter(lat_long[:,0], lat_long[:,1], s=0.1, label=\"real location of ancestors\")\n",
    "plt.legend()"
   ]
  },
  {
   "cell_type": "markdown",
   "metadata": {},
   "source": [
    "For fun, let's find a lineage that \"jumps\" between islands.\n",
    "But curiously, there don't seem to be any."
   ]
  },
  {
   "cell_type": "code",
   "execution_count": null,
   "metadata": {},
   "outputs": [],
   "source": [
    "# NOTE: could tune distance between two islands until see jumpes\n",
    "migrants = set()\n",
    "for tree in recap_ts.trees():\n",
    "    for node in recap_ts.samples():\n",
    "        locs = []\n",
    "        while node != -1 and node < ts.num_nodes:\n",
    "            locs.append(lat_long[node])\n",
    "            node = tree.parent(node)\n",
    "        locs = np.array(locs)\n",
    "        if np.any(locs[:,0] < 2) and np.any(locs[:,0] > 2):\n",
    "            migrants.add(node)\n",
    "print(migrants)"
   ]
  },
  {
   "cell_type": "markdown",
   "metadata": {},
   "source": [
    "# Testing the four combinations of location models and migration likelihoods"
   ]
  },
  {
   "cell_type": "code",
   "execution_count": null,
   "metadata": {},
   "outputs": [],
   "source": [
    "from tspyro import models"
   ]
  },
  {
   "cell_type": "code",
   "execution_count": null,
   "metadata": {},
   "outputs": [],
   "source": [
    "real_locations_internal = lat_long[recap_ts.num_samples:,]"
   ]
  },
  {
   "cell_type": "code",
   "execution_count": null,
   "metadata": {},
   "outputs": [],
   "source": [
    "# Create the priors for dates\n",
    "priors = tsdate.build_prior_grid(recap_ts, Ne=10000, approximate_priors=True, timepoints=100, progress=True)"
   ]
  },
  {
   "cell_type": "code",
   "execution_count": null,
   "metadata": {},
   "outputs": [],
   "source": [
    "node_times = torch.as_tensor(recap_ts.tables.nodes.time, dtype=torch.get_default_dtype())\n",
    "leaf_location=torch.as_tensor(lat_long[:recap_ts.num_samples,:], dtype=torch.get_default_dtype())"
   ]
  },
  {
   "cell_type": "code",
   "execution_count": null,
   "metadata": {},
   "outputs": [],
   "source": [
    "avg_location = models.NaiveModel(\n",
    "    recap_ts, Ne=200, prior=priors).get_ancestral_geography(recap_ts, leaf_location)"
   ]
  },
  {
   "cell_type": "code",
   "execution_count": null,
   "metadata": {},
   "outputs": [],
   "source": [
    "avg_msle = np.sqrt(mean_squared_error(real_locations_internal, avg_location))#[:-(recap_ts.num_nodes-ts.num_nodes)]))\n",
    "print(\"The accuracy to beat is {:.5f}\".format(avg_msle))"
   ]
  },
  {
   "cell_type": "code",
   "execution_count": null,
   "metadata": {},
   "outputs": [],
   "source": [
    "from tspyro.models import NaiveModel\n",
    "class ConditionedModel(NaiveModel):\n",
    "    def __init__(self, **kwargs):\n",
    "        super().__init__(**kwargs)\n",
    "        ts = kwargs[\"ts\"]\n",
    "        self.internal_times = torch.as_tensor(ts.tables.nodes.time[ts.num_samples:],\n",
    "                                             dtype=torch.get_default_dtype())\n",
    "        \n",
    "    def forward(self, *args, **kwargs):\n",
    "        with pyro.condition(data={#\"migration_scale\": torch.tensor(0.05),\n",
    "                                 \"internal_time\": self.internal_times}):\n",
    "            return super().forward(*args, **kwargs)"
   ]
  },
  {
   "cell_type": "code",
   "execution_count": null,
   "metadata": {},
   "outputs": [],
   "source": [
    "# Create grid for WayPoint Model\n",
    "grid_radius = 0.1\n",
    "grid = make_hex_grid(**bounds, radius=grid_radius, predicate=on_land)\n",
    "waypoints = grid[\"waypoints\"]\n",
    "transition = grid[\"transition\"]\n"
   ]
  },
  {
   "cell_type": "code",
   "execution_count": null,
   "metadata": {
    "scrolled": true
   },
   "outputs": [],
   "source": [
    "steps = 2000\n",
    "log_every = 100\n",
    "\n",
    "# Method 1: euclidean_migration and mean_field_location \n",
    "_, tspyro_location_1, migration_scale_1, guide_1, losses_1 = models.fit_guide(\n",
    "    recap_ts,\n",
    "    leaf_location,\n",
    "    priors,\n",
    "    migration_likelihood=models.euclidean_migration,\n",
    "    location_model=models.mean_field_location, steps=steps, log_every=log_every,\n",
    "    Model=ConditionedModel,\n",
    ")\n",
    "accuracy_1 = np.sqrt(mean_squared_error(real_locations_internal, tspyro_location_1[recap_ts.num_samples:ts.num_nodes]))\n",
    "\n",
    "# Method 2: euclidean_migration and ReparamLocation\n",
    "_, tspyro_location_2, migration_scale_2, guide_2, losses_2 = models.fit_guide(\n",
    "    recap_ts,\n",
    "    leaf_location,\n",
    "    priors,\n",
    "    migration_likelihood=models.euclidean_migration,\n",
    "    location_model=models.ReparamLocation(recap_ts, leaf_location[:ts.num_samples]),\n",
    "    steps=steps, log_every=log_every,\n",
    "    Model=ConditionedModel,\n",
    ")\n",
    "accuracy_2 = np.sqrt(mean_squared_error(real_locations_internal, tspyro_location_2[recap_ts.num_samples:ts.num_nodes]))\n",
    "\n",
    "waypoints_steps = 200\n",
    "log_every = 10\n",
    "# Method 3: WayPointMigration and mean_field_location\n",
    "_, tspyro_location_3, migration_scale_3, guide_3, losses_3 = models.fit_guide(\n",
    "    recap_ts,\n",
    "    leaf_location,\n",
    "    priors,\n",
    "    migration_likelihood=models.WayPointMigration(transition, waypoints, grid_radius),\n",
    "    location_model=models.mean_field_location,\n",
    "    steps=waypoints_steps, log_every=log_every,\n",
    "    Model=ConditionedModel,\n",
    ")\n",
    "accuracy_3 = np.sqrt(mean_squared_error(real_locations_internal, tspyro_location_3[recap_ts.num_samples:ts.num_nodes]))\n",
    "\n",
    "# Method 4: WayPointMigration and ReparamLocation\n",
    "_, tspyro_location_4, migration_scale_4, guide_4, losses_4 = models.fit_guide(\n",
    "    recap_ts,\n",
    "    leaf_location,\n",
    "    priors,\n",
    "    migration_likelihood=models.WayPointMigration(transition, waypoints, grid_radius),\n",
    "    location_model=models.ReparamLocation(recap_ts, leaf_location[:ts.num_samples]),\n",
    "    steps=waypoints_steps, log_every=log_every,\n",
    "    Model=ConditionedModel,\n",
    ")\n",
    "accuracy_4 = np.sqrt(mean_squared_error(real_locations_internal, tspyro_location_4[recap_ts.num_samples:ts.num_nodes]))"
   ]
  },
  {
   "cell_type": "code",
   "execution_count": null,
   "metadata": {},
   "outputs": [],
   "source": [
    "print(accuracy_1, accuracy_2, accuracy_3, accuracy_4)"
   ]
  },
  {
   "cell_type": "code",
   "execution_count": null,
   "metadata": {},
   "outputs": [],
   "source": [
    "# with a learning rate of 0.005 (reparam model)\n",
    "plt.plot(losses_1)\n",
    "plt.plot(losses_2)\n",
    "plt.plot(losses_3)\n",
    "plt.plot(losses_4)"
   ]
  },
  {
   "cell_type": "code",
   "execution_count": null,
   "metadata": {},
   "outputs": [],
   "source": [
    "plt.scatter(lat_long[:,0], lat_long[:,1], s=1, label=\"real location of ancestors\")\n",
    "plt.scatter(avg_location[:,0],\n",
    "            avg_location[:,1], s=1, label=\"average of children location (initalization)\")\n",
    "plt.legend()"
   ]
  },
  {
   "cell_type": "code",
   "execution_count": null,
   "metadata": {},
   "outputs": [],
   "source": [
    "plt.scatter(lat_long[:,0], lat_long[:,1], s=1, label=\"real location of ancestors\")\n",
    "plt.scatter(tspyro_location_1[recap_ts.num_samples:ts.num_nodes][:,0],\n",
    "            tspyro_location_1[recap_ts.num_samples:ts.num_nodes][:,1], s=1,\n",
    "            label=\"inferred location of model 1\")\n",
    "plt.scatter(waypoints[:, 0], waypoints[:, 1])\n",
    "\n",
    "circle1 = plt.Circle(island_center[0], island_radius[0] * 2, color='black', alpha=0.1, zorder=-1)\n",
    "circle2 = plt.Circle(island_center[1], island_radius[1] * 2, color='black', alpha=0.1, zorder=-1)\n",
    "plt.gca().add_patch(circle1)\n",
    "plt.gca().add_patch(circle2)\n",
    "\n",
    "plt.legend()"
   ]
  },
  {
   "cell_type": "code",
   "execution_count": null,
   "metadata": {},
   "outputs": [],
   "source": [
    "from tspyro import viz"
   ]
  },
  {
   "cell_type": "code",
   "execution_count": null,
   "metadata": {},
   "outputs": [],
   "source": [
    "fig, ax = plt.subplots()\n",
    "viz.plot_diff(ts, lat_long, np.concatenate([np.array(leaf_location), avg_location]), waypoints=waypoints, title=\"Average of children\", ax=ax)"
   ]
  },
  {
   "cell_type": "code",
   "execution_count": null,
   "metadata": {},
   "outputs": [],
   "source": [
    "fig, ax = plt.subplots()\n",
    "viz.plot_diff(ts, lat_long, tspyro_location_1, waypoints=waypoints, title=\"Waypoint\", ax=ax)"
   ]
  },
  {
   "cell_type": "code",
   "execution_count": null,
   "metadata": {},
   "outputs": [],
   "source": [
    "fig, ax = plt.subplots()\n",
    "viz.plot_diff(ts, lat_long, tspyro_location_2, waypoints=waypoints, title=\"Waypoint\", ax=ax)"
   ]
  },
  {
   "cell_type": "code",
   "execution_count": null,
   "metadata": {},
   "outputs": [],
   "source": [
    "fig, ax = plt.subplots()\n",
    "viz.plot_diff(ts, lat_long, tspyro_location_3, waypoints=waypoints, title=\"Waypoint\", ax=ax)"
   ]
  },
  {
   "cell_type": "code",
   "execution_count": null,
   "metadata": {},
   "outputs": [],
   "source": [
    "fig, ax = plt.subplots()\n",
    "viz.plot_diff(ts, lat_long, tspyro_location_4, waypoints=waypoints, title=\"Waypoint\", ax=ax)"
   ]
  },
  {
   "cell_type": "code",
   "execution_count": null,
   "metadata": {},
   "outputs": [],
   "source": []
  }
 ],
 "metadata": {
  "kernelspec": {
   "display_name": "tspyro",
   "language": "python",
   "name": "tspyro"
  },
  "language_info": {
   "codemirror_mode": {
    "name": "ipython",
    "version": 3
   },
   "file_extension": ".py",
   "mimetype": "text/x-python",
   "name": "python",
   "nbconvert_exporter": "python",
   "pygments_lexer": "ipython3",
   "version": "3.7.12"
  }
 },
 "nbformat": 4,
 "nbformat_minor": 4
}
